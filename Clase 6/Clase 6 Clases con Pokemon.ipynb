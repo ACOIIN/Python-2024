{
  "nbformat": 4,
  "nbformat_minor": 0,
  "metadata": {
    "colab": {
      "provenance": []
    },
    "kernelspec": {
      "name": "python3",
      "display_name": "Python 3"
    },
    "language_info": {
      "name": "python"
    }
  },
  "cells": [
    {
      "cell_type": "markdown",
      "source": [
        "## 1. Definición y Sintaxis Básica de una Clase\n",
        "\n",
        "Podemos comenzar explicando qué es una clase en Python y cómo se define:\n",
        "\n",
        "```python\n",
        "# Definición básica de una clase en Python\n",
        "class Pokemon:\n",
        "    pass\n",
        "```\n"
      ],
      "metadata": {
        "id": "H2RBAtCU4clU"
      }
    },
    {
      "cell_type": "code",
      "execution_count": 2,
      "metadata": {
        "id": "PXLMUKU20jHr"
      },
      "outputs": [],
      "source": [
        "# Declarar la clase Pokemon"
      ]
    },
    {
      "cell_type": "markdown",
      "source": [
        "## 2. Qué es un Atributo\n",
        "\n",
        "Luego, podemos introducir el concepto de atributos. Los atributos son variables que pertenecen a una clase. Usando el ejemplo de Pokémon, podemos agregar algunos atributos como `nombre`, `tipo` y `estadisticas`:"
      ],
      "metadata": {
        "id": "b9oXnxz247Wr"
      }
    },
    {
      "cell_type": "code",
      "source": [
        "# Agreamos atributos a la clase Pokemon\n",
        "\n",
        "class Pokemon:\n",
        "    # Método especial __init__ para inicializar los atributos de la clase\n",
        "    def __init__(self, nombre, tipo, estadisticas):\n",
        "        self.nombre = nombre  # Atributo de nombre\n",
        "        # Completar\n",
        "\n",
        "# Crear una instancia de la clase Pokemon\n",
        "pikachu = Pokemon(\"Pikachu\", \"Eléctrico\", {\"ataque\": 55, \"defensa\": 40, \"velocidad\": 90})\n",
        "\n",
        "# Mostrar los atributos\n",
        "print(pikachu.nombre)  # Pikachu"
      ],
      "metadata": {
        "id": "WiTDso_h47FQ"
      },
      "execution_count": null,
      "outputs": []
    },
    {
      "cell_type": "markdown",
      "source": [
        "## 3. Qué es un Método\n",
        "\n",
        "Los métodos son funciones definidas dentro de una clase que describen los comportamientos que un objeto de esa clase puede tener. Vamos a añadir algunos métodos para nuestros Pokémon, como `atacar` y `gritar`:\n"
      ],
      "metadata": {
        "id": "dIVOGCkb5Z1U"
      }
    },
    {
      "cell_type": "code",
      "source": [
        "class Pokemon:\n",
        "    def __init__(self, nombre, tipo, estadisticas):\n",
        "        self.nombre = nombre\n",
        "        self.tipo = tipo\n",
        "        self.estadisticas = estadisticas\n",
        "\n",
        "    # Método para simular un ataque\n",
        "    def atacar(self, otro_pokemon):\n",
        "        pass\n",
        "\n",
        "    # Método para simular un grito o sonido\n",
        "    def gritar(self):\n",
        "        pass"
      ],
      "metadata": {
        "id": "ecMsa4Y35ekk"
      },
      "execution_count": null,
      "outputs": []
    },
    {
      "cell_type": "markdown",
      "source": [
        "## 4. Clase `EntrenadorPokemon`\n",
        "\n",
        "Ahora crearemos una clase `EntrenadorPokemon` que pueda tener Pokémon como atributos. Esto implica crear una lista de objetos `Pokemon` dentro de cada objeto `EntrenadorPokemon`:"
      ],
      "metadata": {
        "id": "fnkwh1HE5nZj"
      }
    },
    {
      "cell_type": "code",
      "source": [
        "class EntrenadorPokemon:\n",
        "    def __init__(self, nombre):\n",
        "        self.nombre = nombre\n",
        "        # Completar con self.pokemons\n",
        "\n",
        "    # Método para añadir un Pokémon al equipo del entrenador\n",
        "    def capturar_pokemon(self, pokemon):\n",
        "        pass\n",
        "\n",
        "    # Método para mostrar el equipo del entrenador\n",
        "    def mostrar_equipo(self):\n",
        "        print(f\"Entrenador {self.nombre} tiene los siguientes Pokémon:\")\n",
        "        pass\n"
      ],
      "metadata": {
        "id": "M8GOyFVa6C3h"
      },
      "execution_count": null,
      "outputs": []
    },
    {
      "cell_type": "markdown",
      "source": [
        "## 5. Clase `Ataque`\n",
        "\n",
        "La clase `Ataque` tendrá atributos como el nombre del ataque, el tipo, y la potencia. Podría tener también un método para aplicar el ataque y calcular el daño."
      ],
      "metadata": {
        "id": "XXrEH_Ku6bc8"
      }
    },
    {
      "cell_type": "code",
      "source": [
        "class Ataque:\n",
        "    def __init__(self, nombre, tipo, potencia):\n",
        "        self.nombre = nombre\n",
        "        self.tipo = tipo\n",
        "        self.potencia = potencia\n",
        "\n",
        "    def __str__(self):\n",
        "        return f\"{self.nombre} ({self.tipo}) - Potencia: {self.potencia}\""
      ],
      "metadata": {
        "id": "GcZbReYv6aeC"
      },
      "execution_count": null,
      "outputs": []
    },
    {
      "cell_type": "markdown",
      "source": [
        "## 6. Agregar métodos a la clase Pokemon\n",
        "\n",
        "\n",
        "Hay que agregar los siguientes métodos:\n",
        "\n",
        "1. elegir_ataque\n",
        "2. recibir_dano\n",
        "3. esta_vivo\n"
      ],
      "metadata": {
        "id": "fvBGIO_E8P3b"
      }
    },
    {
      "cell_type": "markdown",
      "source": [
        "## 7. Clase `EntrenadorPokemon`\n",
        "\n",
        "La clase `EntrenadorPokemon` maneja al entrenador y sus Pokémon. Permite al entrenador cambiar de Pokémon y atacar."
      ],
      "metadata": {
        "id": "Z9yTXEZp6o4M"
      }
    },
    {
      "cell_type": "code",
      "source": [
        "class EntrenadorPokemon:\n",
        "    def __init__(self, nombre, equipo):\n",
        "        self.nombre = nombre\n",
        "        self.equipo = equipo  # Lista de objetos Pokemon\n",
        "        self.pokemon_activo = equipo[0]\n",
        "\n",
        "    def elegir_pokemon(self):\n",
        "        # Le vas a dar la opción al usario de elegir por cuál pokemon\n",
        "        # cambiar al pokemon_activo\n",
        "        pass\n",
        "\n",
        "    def atacar(self, otro_entrenador):\n",
        "        # Le vas a dar la opción al usario de elegir el ataque\n",
        "        # que va a usar el pokemon con elegir_ataque() y luego\n",
        "        # el otro pokemon debera recibir el daño con recibir_dano(dano)\n",
        "        pass\n",
        "\n",
        "    def __str__(self):\n",
        "        return f\"Entrenador {self.nombre} con Pokémon activo: {self.pokemon_activo.nombre}\""
      ],
      "metadata": {
        "id": "F0I36TN76qSz"
      },
      "execution_count": null,
      "outputs": []
    },
    {
      "cell_type": "markdown",
      "source": [
        "## 8. Clase `BatallaPokemon`\n",
        "\n",
        "Esta clase gestionará la batalla entre dos entrenadores. Los entrenadores se alternarán para elegir un ataque o cambiar de Pokémon."
      ],
      "metadata": {
        "id": "z1Wtay337nsr"
      }
    },
    {
      "cell_type": "code",
      "source": [
        "class BatallaPokemon:\n",
        "    def __init__(self, entrenador1, entrenador2):\n",
        "        self.entrenador1 = entrenador1\n",
        "        self.entrenador2 = entrenador2\n",
        "\n",
        "    def iniciar_batalla(self):\n",
        "        pass"
      ],
      "metadata": {
        "id": "MaRd8HmO7oYt"
      },
      "execution_count": null,
      "outputs": []
    },
    {
      "cell_type": "markdown",
      "source": [
        "## 9. Crear un Ejemplo de Batalla\n",
        "\n",
        "Ahora podemos crear un ejemplo con dos entrenadores y sus Pokémon para ver cómo funciona el sistema.\n"
      ],
      "metadata": {
        "id": "9oOI6M1f7yQH"
      }
    },
    {
      "cell_type": "code",
      "source": [
        "# Crear algunos ataques\n",
        "ataque1 = Ataque(\"Impactrueno\", \"Eléctrico\", 40)\n",
        "ataque2 = Ataque(\"Arañazo\", \"Normal\", 20)\n",
        "ataque3 = Ataque(\"Llamarada\", \"Fuego\", 90)\n",
        "ataque4 = Ataque(\"Surf\", \"Agua\", 80)\n",
        "\n",
        "# Crear Pokémon con sus ataques\n",
        "pikachu = Pokemon(\"Pikachu\", \"Eléctrico\", {\"salud\": 100, \"ataque\": 55, \"defensa\": 40}, [ataque1, ataque2])\n",
        "charizard = Pokemon(\"Charizard\", \"Fuego\", {\"salud\": 150, \"ataque\": 84, \"defensa\": 78}, [ataque3, ataque2])\n",
        "blastoise = Pokemon(\"Blastoise\", \"Agua\", {\"salud\": 150, \"ataque\": 83, \"defensa\": 100}, [ataque4, ataque2])\n",
        "\n",
        "# Crear entrenadores con sus equipos\n",
        "ash = EntrenadorPokemon(\"Ash\", [pikachu, charizard])\n",
        "gary = EntrenadorPokemon(\"Gary\", [blastoise])\n",
        "\n",
        "# Iniciar la batalla\n",
        "batalla = BatallaPokemon(ash, gary)\n",
        "batalla.iniciar_batalla()"
      ],
      "metadata": {
        "id": "JqZ2saMI7x-I"
      },
      "execution_count": null,
      "outputs": []
    }
  ]
}