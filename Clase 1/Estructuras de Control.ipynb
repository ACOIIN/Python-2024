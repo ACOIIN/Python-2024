{
 "cells": [
  {
   "cell_type": "markdown",
   "id": "0d718f73-1f9c-4260-b0c5-deb51b5967cf",
   "metadata": {},
   "source": [
    "# Clase 1"
   ]
  },
  {
   "cell_type": "markdown",
   "id": "f7b832c1-4e72-43ae-b1d8-62798595f601",
   "metadata": {
    "id": "otv8wsNR4Xac"
   },
   "source": [
    "## Estructuras de Control 1\n"
   ]
  },
  {
   "cell_type": "markdown",
   "id": "3e9b4b23-a1e6-4282-8d7e-0e97e11c3b69",
   "metadata": {
    "id": "6JNnwMGH4ZWo"
   },
   "source": [
    "### Sección: Variables booleanas y Condicionales"
   ]
  },
  {
   "cell_type": "code",
   "execution_count": null,
   "id": "6b7af12a-6451-40ab-a3f1-c14ca5773b3a",
   "metadata": {
    "id": "UExXTkhe4b6L"
   },
   "outputs": [],
   "source": [
    "# Las variables booleanas pueden ser True o False.\n",
    "llueve = True"
   ]
  },
  {
   "cell_type": "code",
   "execution_count": null,
   "id": "0c823461-9b68-42a8-99d4-608077f2bce2",
   "metadata": {
    "id": "A-xhvInY4dP7"
   },
   "outputs": [],
   "source": [
    "# Estructuras condicionales permiten ejecutar código basado en condiciones.\n",
    "if llueve:\n",
    "    print(\"Lleva un paraguas.\")\n",
    "else:\n",
    "    print(\"No necesitas un paraguas.\")"
   ]
  },
  {
   "cell_type": "code",
   "execution_count": null,
   "id": "125c8cd3-436d-40be-b17a-3da0bd5edb05",
   "metadata": {
    "id": "e3yXcE6O4gnT"
   },
   "outputs": [],
   "source": [
    "# También puedes usar elif para evaluar múltiples condiciones.\n",
    "temperatura = 25\n",
    "\n",
    "if temperatura > 30:\n",
    "    print(\"Hace mucho calor.\")\n",
    "elif temperatura > 20:\n",
    "    print(\"El clima es agradable.\")\n",
    "else:\n",
    "    print(\"Hace frío.\")"
   ]
  },
  {
   "cell_type": "markdown",
   "id": "9abf0617-a63e-4e21-9b48-2d6adac1bf26",
   "metadata": {},
   "source": [
    "### Sección: Uso de and y or"
   ]
  },
  {
   "cell_type": "markdown",
   "id": "fd0bc7e9-b5a7-4995-b04b-939d64faedf0",
   "metadata": {},
   "source": [
    "En Python, los operadores lógicos `and` y `or` se usan para combinar múltiples condiciones en una sola expresión lógica. Son fundamentales para escribir condicionales complejas.\n",
    "\n",
    "- `and`: Devuelve `True` si ambas condiciones son verdaderas.\n",
    "- `or`: Devuelve `True` si al menos una de las condiciones es verdadera."
   ]
  },
  {
   "cell_type": "markdown",
   "id": "57eb7e91-dae0-4bbd-9c34-f9c72f6c00a6",
   "metadata": {},
   "source": [
    "#### Ejemplo 1: Verificar si un número está dentro de un rango"
   ]
  },
  {
   "cell_type": "markdown",
   "id": "88089f0d-c122-4161-95f0-29a35e672bd1",
   "metadata": {},
   "source": [
    "Este ejemplo muestra cómo usar `and` para verificar si un número está dentro de un rango específico."
   ]
  },
  {
   "cell_type": "code",
   "execution_count": null,
   "id": "1c86cea6-cd29-4c3e-80ac-3c133f99eb3e",
   "metadata": {},
   "outputs": [],
   "source": [
    "# Solicitar un número al usuario\n",
    "numero = int(input(\"Introduce un número entre 10 y 20: \"))\n",
    "\n",
    "# Verificar si el número está dentro del rango [10, 20]\n",
    "if numero >= 10 and numero <= 20:\n",
    "    print(\"El número está dentro del rango.\")\n",
    "else:\n",
    "    print(\"El número está fuera del rango.\")"
   ]
  },
  {
   "cell_type": "markdown",
   "id": "99462c7a-a484-4acb-9cbf-927a78d5b63e",
   "metadata": {},
   "source": [
    "#### Ejemplo 2: Verificar de si un año es biciesto o no\n",
    "\n",
    "\n"
   ]
  },
  {
   "cell_type": "markdown",
   "id": "17bc67bc-53a2-42d2-b8fd-4c762cce4001",
   "metadata": {},
   "source": [
    "**Descripción**:\n",
    "\n",
    "Un año es bisiesto si cumple con las siguientes condiciones:\n",
    "\n",
    "- Es divisible por 4.\n",
    "- No es divisible por 100, a menos que también sea divisible por 400."
   ]
  },
  {
   "cell_type": "code",
   "execution_count": 1,
   "id": "95976645-2af1-4ed2-b147-bd937275b08b",
   "metadata": {},
   "outputs": [
    {
     "name": "stdin",
     "output_type": "stream",
     "text": [
      "Introduce un año:  2002\n"
     ]
    },
    {
     "name": "stdout",
     "output_type": "stream",
     "text": [
      "El año 2002 no es bisiesto.\n"
     ]
    }
   ],
   "source": [
    "# Solicitar el año al usuario\n",
    "año = int(input(\"Introduce un año: \"))\n",
    "\n",
    "# Determinar si el año es bisiesto\n",
    "if (año % 4 == 0 and año % 100 != 0) or (año % 400 == 0):\n",
    "    print(f\"El año {año} es bisiesto.\")\n",
    "else:\n",
    "    print(f\"El año {año} no es bisiesto.\")"
   ]
  },
  {
   "cell_type": "markdown",
   "id": "934bdda7-d9f2-4b5b-8cd7-fc15c3a3a02c",
   "metadata": {},
   "source": [
    "#### Ejercicio de Fizz Buzz (pequeño)"
   ]
  },
  {
   "cell_type": "markdown",
   "id": "6e31a077-63e0-4c2a-90cb-7d9778e074b5",
   "metadata": {},
   "source": [
    "**Descripción del problema**\n",
    "\n",
    "Escribe un programa que haga lo siguiente:\n",
    "\n",
    "- Solicite al usuario que introduzca un número entero.\n",
    "- Determine si el número introducido cumple con alguna de las siguientes condiciones:\n",
    "    - Si el número es divisible por 3 y por 5, el programa debe imprimir \"FizzBuzz\".\n",
    "    - Si el número es divisible solo por 3, el programa debe imprimir \"Fizz\".\n",
    "    - Si el número es divisible solo por 5, el programa debe imprimir \"Buzz\".\n",
    "    - Si el número no es divisible ni por 3 ni por 5, el programa debe imprimir el número mismo.\n",
    "\n",
    "_Reto_: Haz que el programa se repita, solicitando nuevos números al usuario hasta que el usuario introduzca el número 0. Cuando el número 0 se introduce, el programa debe finalizar."
   ]
  },
  {
   "cell_type": "code",
   "execution_count": null,
   "id": "9e2e9c47-e5f6-4b40-82e9-8859d38137a7",
   "metadata": {},
   "outputs": [],
   "source": [
    "# Tu solución acá"
   ]
  },
  {
   "cell_type": "markdown",
   "id": "cfd79c51-d930-4c56-b816-3680bd474e0f",
   "metadata": {
    "id": "xFFrwkdI6KWq"
   },
   "source": [
    "#### Ejercicio del IMC 2"
   ]
  },
  {
   "cell_type": "markdown",
   "id": "911123f8-0994-4244-b031-a1a082535a5e",
   "metadata": {
    "id": "jFDLUC9h6OUa"
   },
   "source": [
    "En base al ejercicio 1, ahora puedes mostrar la categoria en la que está del IMC.\n",
    "\n",
    "- Bajo peso: IMC < 18.5\n",
    "- Peso normal: 18.5 <= IMC < 24.9\n",
    "- Sobrepeso: 25 <= IMC < 29.9\n",
    "- Obesidad: IMC >= 30\n",
    "\n",
    "Muestra este resultado en pantalla.\n",
    "\n"
   ]
  },
  {
   "cell_type": "markdown",
   "id": "7fc42929-57d6-47a4-99ac-b417d1e71fd8",
   "metadata": {},
   "source": [
    "### Sección: Uso de Bucles `while` y `for`"
   ]
  },
  {
   "cell_type": "markdown",
   "id": "0a859a0f-0101-4dcc-8332-fd6ebb7f4581",
   "metadata": {},
   "source": [
    "Los bucles son trozos de código que vamos a estar repitiendo hasta que se cumpla cierta condición, a veces una cantidad de veces definica para lo cual comunmente ocupamos `for` y otras veces siempre que se mantenga cierta condición `while`."
   ]
  },
  {
   "cell_type": "markdown",
   "id": "1f4174ce-1a15-4080-b3b4-2ad6d46b0d86",
   "metadata": {},
   "source": [
    "#### Bucle `while`"
   ]
  },
  {
   "cell_type": "markdown",
   "id": "15342603-92da-493f-904d-9901cc71beea",
   "metadata": {},
   "source": [
    "El bucle `while` ejecuta un bloque de código mientras una condición especificada es verdadera.\n",
    "\n",
    "**Sintaxis**\n",
    "\n",
    "```python\n",
    "while condición:\n",
    "    # Bloque de código\n",
    "```"
   ]
  },
  {
   "cell_type": "markdown",
   "id": "255d8428-4d78-47d6-99d9-84a11b51ce9f",
   "metadata": {},
   "source": [
    "##### Ejemplo 1: Contar hasta 5"
   ]
  },
  {
   "cell_type": "code",
   "execution_count": null,
   "id": "6ecd7897-d012-42aa-99da-3b520d4deecc",
   "metadata": {},
   "outputs": [],
   "source": [
    "while contador <= 5:\n",
    "    print(\"Contador:\", contador)\n",
    "    contador += 1"
   ]
  },
  {
   "cell_type": "markdown",
   "id": "2d8d7510-bdf0-461c-9bff-2ddb37f73e1f",
   "metadata": {},
   "source": [
    "##### Ejemplo 2: Entrada del Usuario"
   ]
  },
  {
   "cell_type": "code",
   "execution_count": 3,
   "id": "fffedaa0-502f-41a0-a851-0e4916e9ad15",
   "metadata": {},
   "outputs": [
    {
     "name": "stdin",
     "output_type": "stream",
     "text": [
      "Escribe 'salir' para terminar:  s\n",
      "Escribe 'salir' para terminar:  a\n",
      "Escribe 'salir' para terminar:  a\n",
      "Escribe 'salir' para terminar:  a\n",
      "Escribe 'salir' para terminar:  salir\n"
     ]
    }
   ],
   "source": [
    "respuesta = \"\"\n",
    "while respuesta != \"salir\":\n",
    "    respuesta = input(\"Escribe 'salir' para terminar: \")"
   ]
  },
  {
   "cell_type": "markdown",
   "id": "7ee348a0-763f-4356-912c-52c41d945a18",
   "metadata": {},
   "source": [
    "#### Bucle `for`"
   ]
  },
  {
   "cell_type": "markdown",
   "id": "d8136309-a763-4cec-ad96-5d6b2bde5950",
   "metadata": {},
   "source": [
    "El bucle `for` se utiliza para iterar sobre una secuencia (como una lista, una tupla, un diccionario, un conjunto o una cadena).\n",
    "\n",
    "**Sintaxis**\n",
    "\n",
    "```python\n",
    "for elemento in secuencia:\n",
    "    # Bloque de código\n",
    "```"
   ]
  },
  {
   "cell_type": "markdown",
   "id": "357ec62d-c834-4841-9a0c-927623187920",
   "metadata": {},
   "source": [
    "##### Ejemplo 1: Recorrer un string"
   ]
  },
  {
   "cell_type": "code",
   "execution_count": null,
   "id": "feeb8798-5979-4073-b045-0255f64ea784",
   "metadata": {},
   "outputs": [],
   "source": [
    "nombre = matias\n",
    "for letra in nombre:\n",
    "    print(\"letra:\", letra)"
   ]
  },
  {
   "cell_type": "markdown",
   "id": "8060d187-f78f-4da6-905c-2fdc809a0e98",
   "metadata": {},
   "source": [
    "##### Ejemplo 2: Usar `range`"
   ]
  },
  {
   "cell_type": "markdown",
   "id": "c05524ae-5bb2-4831-9e1d-d925177f7773",
   "metadata": {},
   "source": [
    "La función `range` puede tomar uno, dos o tres argumentos:\n",
    "\n",
    "1. **Un argumento (`stop`)**:\n",
    "   ```python\n",
    "   range(stop)\n",
    "   ```\n",
    "   \n",
    "   - Genera una secuencia desde `0` hasta `stop - 1`.\n",
    "\n",
    "2. **Dos argumentos (`start`, `stop`)**:\n",
    "   ```python\n",
    "   range(start, stop)\n",
    "   ```\n",
    "   - Genera una secuencia desde `start` hasta `stop - 1`.\n",
    "\n",
    "3. **Tres argumentos (`start`, `stop`, `step`)**:\n",
    "   ```python\n",
    "   range(start, stop, step)\n",
    "   ```\n",
    "   - Genera una secuencia desde `start` hasta `stop - 1`, incrementando por `step`."
   ]
  },
  {
   "cell_type": "code",
   "execution_count": null,
   "id": "f89dc145-3741-4b5c-a4b7-986d7a0551d6",
   "metadata": {},
   "outputs": [],
   "source": [
    "for numero in range(1, 6):\n",
    "    print(\"Número:\", numero)"
   ]
  },
  {
   "cell_type": "markdown",
   "id": "7a335632-4cb8-486a-a18d-d6b2fabd8bf5",
   "metadata": {},
   "source": [
    "#### Ejemplo combinado"
   ]
  },
  {
   "cell_type": "markdown",
   "id": "18aef874-5fc6-485e-8552-901c7ffa100e",
   "metadata": {},
   "source": [
    "Escribe un programa que calcule la suma de todos los números enteros del 1 al 100 usando un bucle `while` y otro usando un bucle `for`."
   ]
  },
  {
   "cell_type": "code",
   "execution_count": null,
   "id": "85dd1014-b541-407e-a115-978f373b12b2",
   "metadata": {},
   "outputs": [],
   "source": [
    "# versión con while\n",
    "suma = 0\n",
    "numero = 1\n",
    "while numero <= 100:\n",
    "    suma += numero\n",
    "    numero += 1\n",
    "print(\"La suma es:\", suma)"
   ]
  },
  {
   "cell_type": "code",
   "execution_count": null,
   "id": "c173151f-6ee3-486f-97d8-29f51df05a50",
   "metadata": {},
   "outputs": [],
   "source": [
    "# versión con for\n",
    "suma = 0\n",
    "for numero in range(1, 101):\n",
    "    suma += numero\n",
    "print(\"La suma es:\", suma)"
   ]
  },
  {
   "cell_type": "markdown",
   "id": "70404cb5-c880-4475-9212-db1d2fdd03c7",
   "metadata": {},
   "source": [
    "#### Ejercicio de Fizz Buzz (mediano)"
   ]
  },
  {
   "cell_type": "markdown",
   "id": "8b41be8c-5377-42d6-9f3a-fd417b3c12e8",
   "metadata": {},
   "source": [
    "Ahora haz el ejercicio de Fizz Buzz pero imprime la secuencia Fizz Buzz desde 1 hasta el n que te dé el usuario."
   ]
  },
  {
   "cell_type": "code",
   "execution_count": 4,
   "id": "51574f67-e27f-4608-bc52-a56833799ad1",
   "metadata": {},
   "outputs": [],
   "source": [
    "# Tu solución acá"
   ]
  }
 ],
 "metadata": {
  "kernelspec": {
   "display_name": "Python 3 (ipykernel)",
   "language": "python",
   "name": "python3"
  },
  "language_info": {
   "codemirror_mode": {
    "name": "ipython",
    "version": 3
   },
   "file_extension": ".py",
   "mimetype": "text/x-python",
   "name": "python",
   "nbconvert_exporter": "python",
   "pygments_lexer": "ipython3",
   "version": "3.10.12"
  }
 },
 "nbformat": 4,
 "nbformat_minor": 5
}
