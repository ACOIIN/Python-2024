{
 "cells": [
  {
   "cell_type": "markdown",
   "id": "0d718f73-1f9c-4260-b0c5-deb51b5967cf",
   "metadata": {},
   "source": [
    "# Clase 1"
   ]
  },
  {
   "cell_type": "markdown",
   "id": "f7b832c1-4e72-43ae-b1d8-62798595f601",
   "metadata": {
    "id": "otv8wsNR4Xac"
   },
   "source": [
    "## Estructuras de Control 1\n"
   ]
  },
  {
   "cell_type": "markdown",
   "id": "3e9b4b23-a1e6-4282-8d7e-0e97e11c3b69",
   "metadata": {
    "id": "6JNnwMGH4ZWo"
   },
   "source": [
    "### Variables booleanas y Condicionales"
   ]
  },
  {
   "cell_type": "code",
   "execution_count": null,
   "id": "6b7af12a-6451-40ab-a3f1-c14ca5773b3a",
   "metadata": {
    "id": "UExXTkhe4b6L"
   },
   "outputs": [],
   "source": [
    "# Las variables booleanas pueden ser True o False.\n",
    "llueve = True"
   ]
  },
  {
   "cell_type": "code",
   "execution_count": null,
   "id": "0c823461-9b68-42a8-99d4-608077f2bce2",
   "metadata": {
    "id": "A-xhvInY4dP7"
   },
   "outputs": [],
   "source": [
    "# Estructuras condicionales permiten ejecutar código basado en condiciones.\n",
    "if llueve:\n",
    "    print(\"Lleva un paraguas.\")\n",
    "else:\n",
    "    print(\"No necesitas un paraguas.\")"
   ]
  },
  {
   "cell_type": "code",
   "execution_count": null,
   "id": "125c8cd3-436d-40be-b17a-3da0bd5edb05",
   "metadata": {
    "id": "e3yXcE6O4gnT"
   },
   "outputs": [],
   "source": [
    "# También puedes usar elif para evaluar múltiples condiciones.\n",
    "temperatura = 25\n",
    "\n",
    "if temperatura > 30:\n",
    "    print(\"Hace mucho calor.\")\n",
    "elif temperatura > 20:\n",
    "    print(\"El clima es agradable.\")\n",
    "else:\n",
    "    print(\"Hace frío.\")"
   ]
  },
  {
   "cell_type": "markdown",
   "id": "cfd79c51-d930-4c56-b816-3680bd474e0f",
   "metadata": {
    "id": "xFFrwkdI6KWq"
   },
   "source": [
    "### Ejercicio del IMC 2"
   ]
  },
  {
   "cell_type": "markdown",
   "id": "911123f8-0994-4244-b031-a1a082535a5e",
   "metadata": {
    "id": "jFDLUC9h6OUa"
   },
   "source": [
    "En base al ejercicio 1, ahora puedes mostrar la categoria en la que está del IMC.\n",
    "\n",
    "*   Bajo peso: IMC < 18.5\n",
    "*   Peso normal: 18.5 <= IMC < 24.9\n",
    "*   Sobrepeso: 25 <= IMC < 29.9\n",
    "*   Obesidad: IMC >= 30\n",
    "\n",
    "Muestra este resultado en pantalla.\n",
    "\n"
   ]
  }
 ],
 "metadata": {
  "kernelspec": {
   "display_name": "Python 3 (ipykernel)",
   "language": "python",
   "name": "python3"
  },
  "language_info": {
   "codemirror_mode": {
    "name": "ipython",
    "version": 3
   },
   "file_extension": ".py",
   "mimetype": "text/x-python",
   "name": "python",
   "nbconvert_exporter": "python",
   "pygments_lexer": "ipython3",
   "version": "3.10.12"
  }
 },
 "nbformat": 4,
 "nbformat_minor": 5
}
