{
  "nbformat": 4,
  "nbformat_minor": 0,
  "metadata": {
    "colab": {
      "provenance": [],
      "toc_visible": true
    },
    "kernelspec": {
      "name": "python3",
      "display_name": "Python 3"
    },
    "language_info": {
      "name": "python"
    }
  },
  "cells": [
    {
      "cell_type": "markdown",
      "source": [
        "## Continuación de listas\n",
        "\n",
        "Las listas son estructuras de datos que nos permiten tener una secuencia de elementos. Su tamaño puede variar con el tiempo."
      ],
      "metadata": {
        "id": "LUocJGbsofW3"
      }
    },
    {
      "cell_type": "code",
      "execution_count": null,
      "metadata": {
        "id": "8V_P0w_RnOHF"
      },
      "outputs": [],
      "source": [
        "frutas = [\"manzana\", \"banana\", \"cereza\", \"durazno\"]\n",
        "\n",
        "for fruta in frutas:\n",
        "    print(fruta)"
      ]
    },
    {
      "cell_type": "markdown",
      "source": [
        "### Listas de 2 dimensiones\n",
        "\n",
        "Una matriz (lista de 2 dimensiones) es una estructura de datos bidimensional que consiste en una lista de listas.\n",
        "\n",
        "Se puede pensar como una tabla con filas y columnas, donde cada elemento puede ser accedido mediante dos índices: uno para la fila y otro para la columna"
      ],
      "metadata": {
        "id": "87DQ2OERo4z9"
      }
    },
    {
      "cell_type": "code",
      "source": [
        "matriz = [\n",
        "    [1, 2, 3],\n",
        "    [4, 5, 6],\n",
        "    [7, 8, 9]\n",
        "]"
      ],
      "metadata": {
        "id": "HRXZudENpW9n"
      },
      "execution_count": null,
      "outputs": []
    },
    {
      "cell_type": "markdown",
      "source": [
        "#### Iteración sobre una Matriz\n",
        "\n",
        "Puedes usar bucles anidados para iterar sobre todos los elementos de una matriz."
      ],
      "metadata": {
        "id": "_3_FgzxipdV4"
      }
    },
    {
      "cell_type": "code",
      "source": [
        "for fila in matriz:\n",
        "    for elemento in fila:\n",
        "        print(elemento, end=' ')\n",
        "    print()  # Para crear una nueva línea después de cada fila"
      ],
      "metadata": {
        "id": "rZ2WAulIpY4V"
      },
      "execution_count": null,
      "outputs": []
    },
    {
      "cell_type": "markdown",
      "source": [
        "### Sumar todos los elementos de la matriz"
      ],
      "metadata": {
        "id": "patG-IxfqbH9"
      }
    },
    {
      "cell_type": "code",
      "source": [
        "suma_total = 0\n",
        "for fila in matriz:\n",
        "    for elemento in fila:\n",
        "        suma_total += elemento\n",
        "\n",
        "print(\"Suma total:\", suma_total)"
      ],
      "metadata": {
        "id": "QApiiPh8qZ_R"
      },
      "execution_count": null,
      "outputs": []
    },
    {
      "cell_type": "markdown",
      "source": [
        "## Funciones en Python\n",
        "\n",
        "Una función es un bloque de código que realiza una tarea específica y se puede reutilizar en diferentes partes del programa. Las funciones ayudan a hacer el código más modular, legible y fácil de mantener."
      ],
      "metadata": {
        "id": "BAWLkP6uq9xn"
      }
    },
    {
      "cell_type": "markdown",
      "source": [
        "### Ejemplo 1: Función que Suma dos Números"
      ],
      "metadata": {
        "id": "IR-Ji3iarCP4"
      }
    },
    {
      "cell_type": "code",
      "source": [
        "def suma(a, b):\n",
        "    return a + b\n",
        "\n",
        "# Uso de la función\n",
        "resultado = suma(3, 5)\n",
        "print(\"La suma es:\", resultado)  # Salida: La suma es: 8\n"
      ],
      "metadata": {
        "id": "AHhoBrp2rBpE"
      },
      "execution_count": null,
      "outputs": []
    },
    {
      "cell_type": "markdown",
      "source": [
        "### Ejemplo 2: Función que Saluda"
      ],
      "metadata": {
        "id": "Fy7JzInSrIdA"
      }
    },
    {
      "cell_type": "code",
      "source": [
        "def saludar(nombre):\n",
        "    print(\"Hola, \" + nombre + \"!\")\n",
        "\n",
        "# Uso de la función\n",
        "saludar(\"Juan\")  # Salida: Hola, Juan!"
      ],
      "metadata": {
        "id": "808ZPYy4rMhp"
      },
      "execution_count": null,
      "outputs": []
    },
    {
      "cell_type": "markdown",
      "source": [
        "### Ejemplo 3: Función que Encuentra el Mayor Número en una Lista\n"
      ],
      "metadata": {
        "id": "4M1U6AmRrPQc"
      }
    },
    {
      "cell_type": "code",
      "source": [
        "def encontrar_mayor(lista):\n",
        "    mayor = lista[0]\n",
        "    for numero in lista:\n",
        "        if numero > mayor:\n",
        "            mayor = numero\n",
        "    return mayor\n",
        "\n",
        "# Uso de la función\n",
        "numeros = [3, 5, 7, 2, 8]\n",
        "mayor_numero = encontrar_mayor(numeros)\n",
        "print(\"El mayor número es:\", mayor_numero)  # Salida: El mayor número es: 8"
      ],
      "metadata": {
        "id": "uCb_JbzRrPfo"
      },
      "execution_count": null,
      "outputs": []
    },
    {
      "cell_type": "markdown",
      "source": [
        "#### Ejercicio: Suma de Dos Matrices\n",
        "\n",
        "Escribe una función que tome dos matrices de igual tamaño y devuelva una nueva matriz que sea la suma de las dos matrices dadas."
      ],
      "metadata": {
        "id": "s4aH4CMcrble"
      }
    },
    {
      "cell_type": "markdown",
      "source": [
        "1. Define una función `suma_matrices`.\n",
        "2. Itera sobre las filas y columnas de las matrices.\n",
        "3. Suma los elementos correspondientes de las dos matrices y almacena el resultado en una nueva matriz."
      ],
      "metadata": {
        "id": "4iDA2Qv3reQ7"
      }
    },
    {
      "cell_type": "code",
      "source": [
        "def suma_matrices():\n",
        "    pass\n",
        "\n",
        "# Ejemplo de uso\n",
        "matriz1 = [\n",
        "    [1, 2, 3],\n",
        "    [4, 5, 6],\n",
        "    [7, 8, 9]\n",
        "]\n",
        "\n",
        "matriz2 = [\n",
        "    [9, 8, 7],\n",
        "    [6, 5, 4],\n",
        "    [3, 2, 1]\n",
        "]\n",
        "\n",
        "resultado = suma_matrices(matriz1, matriz2)\n",
        "\n",
        "# Imprimir la matriz resultado\n",
        "for fila in resultado:\n",
        "    print(fila)\n"
      ],
      "metadata": {
        "id": "209OqoyRre4_"
      },
      "execution_count": null,
      "outputs": []
    },
    {
      "cell_type": "markdown",
      "source": [
        "**Salida Esperada**:\n",
        "\n",
        "```\n",
        "[10, 10, 10]\n",
        "[10, 10, 10]\n",
        "[10, 10, 10]\n",
        "```"
      ],
      "metadata": {
        "id": "8-2fTahGrtxN"
      }
    },
    {
      "cell_type": "markdown",
      "source": [
        "## Extra: Invertir una Imagen en Blanco y Negro\n",
        "\n",
        "Las matrices pueden utilizarse para representar imágenes en blanco y negro (o en escala de grises). Cada elemento de la matriz representa un píxel, y su valor puede variar de 0 (negro) a 255 (blanco).\n",
        "\n",
        "Supongamos que tenemos una imagen en blanco y negro representada como una matriz, donde cada elemento es un valor de píxel. Queremos escribir una función que invierta los colores de la imagen: los valores altos deben convertirse en bajos y viceversa."
      ],
      "metadata": {
        "id": "zwxEcL8osgI_"
      }
    },
    {
      "cell_type": "code",
      "source": [
        "def invertir_imagen(imagen):\n",
        "    # Crear una nueva matriz para almacenar la imagen invertida\n",
        "    imagen_invertida = []\n",
        "    for fila in imagen:\n",
        "        fila_invertida = []\n",
        "        for pixel in fila:\n",
        "            # Invertir el valor del píxel\n",
        "            pixel_invertido = 255 - pixel\n",
        "            fila_invertida.append(pixel_invertido)\n",
        "        imagen_invertida.append(fila_invertida)\n",
        "    return imagen_invertida\n",
        "\n",
        "# Ejemplo de uso\n",
        "imagen = [\n",
        "    [0, 50, 100],\n",
        "    [150, 200, 250],\n",
        "    [255, 100, 0]\n",
        "]\n",
        "\n",
        "imagen_invertida = invertir_imagen(imagen)\n",
        "\n",
        "# Imprimir la imagen invertida\n",
        "for fila in imagen_invertida:\n",
        "    print(fila)\n"
      ],
      "metadata": {
        "colab": {
          "base_uri": "https://localhost:8080/"
        },
        "id": "OTT5f5jPsp9g",
        "outputId": "31403363-8ed8-4e32-e6bc-92104d7bf5ad"
      },
      "execution_count": 1,
      "outputs": [
        {
          "output_type": "stream",
          "name": "stdout",
          "text": [
            "[255, 205, 155]\n",
            "[105, 55, 5]\n",
            "[0, 155, 255]\n"
          ]
        }
      ]
    },
    {
      "cell_type": "markdown",
      "source": [
        "### Uso de Librerías para Visualizar Imágenes en Blanco y Negro\n",
        "\n",
        "Podemos usar la librería `matplotlib` para visualizar matrices que representan imágenes en blanco y negro."
      ],
      "metadata": {
        "id": "SvqLy47ts6H5"
      }
    },
    {
      "cell_type": "code",
      "source": [
        "# Intalacion de la libreria matplotlib\n",
        "!pip install matplotlib"
      ],
      "metadata": {
        "id": "EdJAEHnis4zi"
      },
      "execution_count": null,
      "outputs": []
    },
    {
      "cell_type": "code",
      "source": [
        "import matplotlib.pyplot as plt\n",
        "\n",
        "# Crear una imagen de ejemplo representada como una matriz\n",
        "imagen = [\n",
        "    [0, 50, 100],\n",
        "    [150, 200, 250],\n",
        "    [255, 100, 0]\n",
        "]\n",
        "\n",
        "# Invertir la imagen\n",
        "imagen_invertida = invertir_imagen(imagen)\n",
        "\n",
        "# Visualizar la imagen original\n",
        "plt.subplot(1, 2, 1)\n",
        "plt.title(\"Imagen Original\")\n",
        "plt.imshow(imagen, cmap='gray', vmin=0, vmax=255)\n",
        "plt.axis('off')\n",
        "\n",
        "# Visualizar la imagen invertida\n",
        "plt.subplot(1, 2, 2)\n",
        "plt.title(\"Imagen Invertida\")\n",
        "plt.imshow(imagen_invertida, cmap='gray', vmin=0, vmax=255)\n",
        "plt.axis('off')\n",
        "\n",
        "# Mostrar las imágenes\n",
        "plt.show()"
      ],
      "metadata": {
        "id": "xgu8dPIns-6t"
      },
      "execution_count": null,
      "outputs": []
    },
    {
      "cell_type": "markdown",
      "source": [],
      "metadata": {
        "id": "kXza5nj8s7TS"
      }
    }
  ]
}