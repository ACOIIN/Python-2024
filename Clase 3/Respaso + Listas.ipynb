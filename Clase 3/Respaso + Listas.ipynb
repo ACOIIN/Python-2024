{
  "nbformat": 4,
  "nbformat_minor": 0,
  "metadata": {
    "colab": {
      "provenance": [],
      "collapsed_sections": [
        "FwXDTojRHLYX",
        "wEE_TopQK8IT"
      ]
    },
    "kernelspec": {
      "name": "python3",
      "display_name": "Python 3"
    },
    "language_info": {
      "name": "python"
    }
  },
  "cells": [
    {
      "cell_type": "markdown",
      "source": [
        "# Repaso"
      ],
      "metadata": {
        "id": "ljJMduxLFgxw"
      }
    },
    {
      "cell_type": "markdown",
      "source": [
        "## Función print\n",
        "\n",
        "La función `print` se utiliza para mostrar información en la consola.\n",
        "Puedes imprimir textos, números y resultados de operaciones."
      ],
      "metadata": {
        "id": "lT5Pl_RXFnhI"
      }
    },
    {
      "cell_type": "code",
      "execution_count": null,
      "metadata": {
        "id": "MZM6P4dVBu3b"
      },
      "outputs": [],
      "source": [
        "print(\"Hola, Mundo!\")  # Imprime un texto\n",
        "print(123)  # Imprime un número\n",
        "print(\"El resultado de 3 + 5 es:\", 3 + 5)  # Imprime el resultado de una operación"
      ]
    },
    {
      "cell_type": "markdown",
      "source": [
        "## Función input\n",
        "\n",
        "La función `input` se utiliza para recibir datos del usuario.\n",
        "Lo que el usuario ingresa se almacena como una cadena de texto (str)."
      ],
      "metadata": {
        "id": "aLeZDtuhFreS"
      }
    },
    {
      "cell_type": "code",
      "source": [
        "nombre = input(\"¿Cuál es tu nombre? \")\n",
        "print(\"Hola, \" + nombre + \"!\")\n",
        "\n",
        "# Si necesitas trabajar con números, convierte la entrada a un tipo numérico.\n",
        "edad = int(input(\"¿Cuántos años tienes? \"))\n",
        "print(\"Tienes\", edad, \"años.\")"
      ],
      "metadata": {
        "id": "nTLom1cjFud6"
      },
      "execution_count": null,
      "outputs": []
    },
    {
      "cell_type": "markdown",
      "source": [
        "## Control de flujo if else\n",
        "\n",
        "Las sentencias `if` y `else` se utilizan para tomar decisiones en el código.\n",
        "Permiten ejecutar diferentes bloques de código según una condición."
      ],
      "metadata": {
        "id": "eNjTMPwbFuG6"
      }
    },
    {
      "cell_type": "code",
      "source": [
        "numero = int(input(\"Ingresa un número: \"))\n",
        "\n",
        "if numero > 0:\n",
        "    print(\"El número es positivo.\")\n",
        "elif numero < 0:\n",
        "    print(\"El número es negativo.\")\n",
        "else:\n",
        "    print(\"El número es cero.\")\n"
      ],
      "metadata": {
        "id": "ATscUHpQGRhi"
      },
      "execution_count": null,
      "outputs": []
    },
    {
      "cell_type": "markdown",
      "source": [
        "## Bucles: for\n",
        "\n",
        "El bucle `for` se utiliza para iterar sobre una secuencia (como una lista, una cadena, un rango, etc.).\n"
      ],
      "metadata": {
        "id": "Tpm4aFCGGTy_"
      }
    },
    {
      "cell_type": "code",
      "source": [
        "# Iterando sobre una lista\n",
        "frutas = [\"manzana\", \"frutilla\", \"cereza\"]\n",
        "for fruta in frutas:\n",
        "    print(\"Me gusta la\", fruta)\n",
        "\n",
        "# Iterando usando range\n",
        "for i in range(5):\n",
        "    print(\"Número:\", i)"
      ],
      "metadata": {
        "id": "TS7koxqKGYpB"
      },
      "execution_count": null,
      "outputs": []
    },
    {
      "cell_type": "markdown",
      "source": [
        "## Bucle while\n",
        "\n",
        "El bucle `while` repite un bloque de código mientras una condición sea verdadera.\n"
      ],
      "metadata": {
        "id": "dLhV4ap0GfSw"
      }
    },
    {
      "cell_type": "code",
      "source": [
        "contador = 0\n",
        "while contador < 5:\n",
        "    print(\"Contador:\", contador)\n",
        "    contador += 1"
      ],
      "metadata": {
        "id": "acm5JCF1Gexa"
      },
      "execution_count": null,
      "outputs": []
    },
    {
      "cell_type": "markdown",
      "source": [
        "# Listas"
      ],
      "metadata": {
        "id": "WRCaXjP_GrD1"
      }
    },
    {
      "cell_type": "markdown",
      "source": [
        "## ¿Qué es una lista?\n",
        "\n",
        "Una lista en Python es una colección ordenada y mutable de elementos.\n",
        "Puedes almacenar cualquier tipo de datos en una lista, incluyendo números, cadenas, y otros objetos.\n"
      ],
      "metadata": {
        "id": "192BMWwBHAwH"
      }
    },
    {
      "cell_type": "code",
      "source": [
        "# Ejemplo de lista\n",
        "mi_lista = [1, 2, 3, \"cuatro\", \"cinco\", 6.0]\n",
        "print(\"Mi lista:\", mi_lista)"
      ],
      "metadata": {
        "id": "Ty6zQX4zHEPF"
      },
      "execution_count": null,
      "outputs": []
    },
    {
      "cell_type": "markdown",
      "source": [
        "Con el método `append` podemos agregar un elemento al final de una lista."
      ],
      "metadata": {
        "id": "LrSBrmK3LbNB"
      }
    },
    {
      "cell_type": "code",
      "source": [
        "# Creamos una lista vacía\n",
        "numeros = []\n",
        "\n",
        "# Usamos un bucle for para agregar los números del 1 al 5 a la lista\n",
        "for i in range(1, 6):\n",
        "    numeros.append(i)\n",
        "\n",
        "# Imprimimos la lista resultante\n",
        "print(\"Lista de números del 1 al 5:\", numeros)"
      ],
      "metadata": {
        "id": "gpmFx0maLau1"
      },
      "execution_count": null,
      "outputs": []
    },
    {
      "cell_type": "markdown",
      "source": [
        "## Funciones de las listas"
      ],
      "metadata": {
        "id": "FwXDTojRHLYX"
      }
    },
    {
      "cell_type": "markdown",
      "source": [
        "### 1. len(): Obtener la longitud de la lista"
      ],
      "metadata": {
        "id": "BefwL3N_HjNR"
      }
    },
    {
      "cell_type": "code",
      "source": [
        "# La función `len()` devuelve el número de elementos en una lista.\n",
        "longitud = len(mi_lista)\n",
        "print(\"La longitud de la lista es:\", longitud)"
      ],
      "metadata": {
        "id": "2IDa2W8eHUQk"
      },
      "execution_count": null,
      "outputs": []
    },
    {
      "cell_type": "markdown",
      "source": [
        "### 2. sort(): Ordenar la lista\n",
        "\n",
        "La función `sort()` ordena los elementos de una lista en orden ascendente (por defecto).\n",
        "Nota: Todos los elementos deben ser del mismo tipo para poder ordenarlos."
      ],
      "metadata": {
        "id": "X0sKx-AiHk6e"
      }
    },
    {
      "cell_type": "code",
      "source": [
        "numeros = [4, 2, 9, 1, 5, 6]\n",
        "numeros.sort()\n",
        "print(\"Lista ordenada:\", numeros)"
      ],
      "metadata": {
        "id": "zkE5aifVHpHD"
      },
      "execution_count": null,
      "outputs": []
    },
    {
      "cell_type": "code",
      "source": [
        "# Ordenar en orden descendente\n",
        "numeros.sort(reverse=True)\n",
        "print(\"Lista ordenada en orden descendente:\", numeros)"
      ],
      "metadata": {
        "id": "Vr95_l0NHsBj"
      },
      "execution_count": null,
      "outputs": []
    },
    {
      "cell_type": "markdown",
      "source": [
        "### 3. reverse(): Invertir la lista\n",
        "\n",
        "La función `reverse()` invierte el orden de los elementos en la lista."
      ],
      "metadata": {
        "id": "FiRpgEaQHvH_"
      }
    },
    {
      "cell_type": "code",
      "source": [
        "mi_lista = [1, 2, 3, 4, 5]\n",
        "mi_lista.reverse()\n",
        "print(\"Lista invertida:\", mi_lista)"
      ],
      "metadata": {
        "id": "R-1UlpgZH3Vc"
      },
      "execution_count": null,
      "outputs": []
    },
    {
      "cell_type": "markdown",
      "source": [
        "### 4. index(): Encontrar la posición de un elemento\n",
        "\n",
        "La función `index()` devuelve el índice de la primera aparición de un elemento en la lista.\n",
        "Si el elemento no está en la lista, se genera un error.\n"
      ],
      "metadata": {
        "id": "q5CW4nfYH4sY"
      }
    },
    {
      "cell_type": "code",
      "source": [
        "elemento = 3\n",
        "posicion = mi_lista.index(elemento)\n",
        "print(\"La posición del elemento\", elemento, \"es:\", posicion)"
      ],
      "metadata": {
        "id": "ORa7KI8xH8Op"
      },
      "execution_count": null,
      "outputs": []
    },
    {
      "cell_type": "markdown",
      "source": [
        "### 5. count(): Contar la cantidad de veces que un elemento aparece en la lista\n",
        "\n",
        "La función `count()` devuelve el número de veces que un elemento aparece en la lista."
      ],
      "metadata": {
        "id": "hCCRqQzkIIwD"
      }
    },
    {
      "cell_type": "code",
      "source": [
        "mi_lista = [1, 2, 3, 4, 3, 2, 1]"
      ],
      "metadata": {
        "id": "SkIpwnt9IHmR"
      },
      "execution_count": null,
      "outputs": []
    },
    {
      "cell_type": "markdown",
      "source": [
        "### Iteración sobre Listas en Python"
      ],
      "metadata": {
        "id": "pGGCSIQmJEG4"
      }
    },
    {
      "cell_type": "markdown",
      "source": [
        "#### Usando un bucle `for`\n",
        "\n",
        "Un bucle `for` recorre elementos de una lista de manera secuencial."
      ],
      "metadata": {
        "id": "dzNbVX2eJI1l"
      }
    },
    {
      "cell_type": "code",
      "source": [
        "# Definimos una lista de frutas\n",
        "frutas = [\"manzana\", \"banana\", \"cereza\", \"durazno\", \"pera\"]\n",
        "\n",
        "# Usamos un bucle for para iterar sobre cada elemento en la lista\n",
        "for fruta in frutas:\n",
        "    print(fruta)"
      ],
      "metadata": {
        "id": "LC6VkM0bJORg"
      },
      "execution_count": null,
      "outputs": []
    },
    {
      "cell_type": "markdown",
      "source": [
        "#### Iterando con índice y while\n",
        "\n",
        "Se puede hacer usando la función `range()` junto con `len()`:"
      ],
      "metadata": {
        "id": "enH1xOGZJR9l"
      }
    },
    {
      "cell_type": "code",
      "source": [
        "# Definimos la misma lista de frutas\n",
        "frutas = [\"manzana\", \"banana\", \"cereza\", \"durazno\", \"pera\"]\n",
        "\n",
        "# Usamos un bucle for para iterar sobre los índices de la lista\n",
        "for i in range(len(frutas)):\n",
        "    print(\"Índice:\", i, \"Fruta:\", frutas[i])"
      ],
      "metadata": {
        "id": "oziv75kLJYRM"
      },
      "execution_count": null,
      "outputs": []
    },
    {
      "cell_type": "markdown",
      "source": [
        "## Ejercicios de Listas"
      ],
      "metadata": {
        "id": "wEE_TopQK8IT"
      }
    },
    {
      "cell_type": "markdown",
      "source": [
        "### Ejercicio 1: Ordenar y Filtrar Listas\n",
        "\n",
        "**Descripción:**\n",
        "Dada una lista de números enteros, filtra los números que son múltiplos de 3 y ordénalos en orden descendente. Luego, imprime la lista resultante.\n",
        "\n",
        "**Requisitos:**\n",
        "- Crear una función `filtrar_y_ordenar` que tome una lista de números enteros como argumento.\n",
        "- Filtrar los números que son múltiplos de 3.\n",
        "- Ordenar los números filtrados en orden descendente.\n",
        "- Imprimir la lista resultante.\n",
        "\n",
        "**Ejemplo:**\n",
        "```python\n",
        "# Lista de entrada\n",
        "numeros = [10, 3, 14, 9, 21, 4, 6, 8]\n",
        "\n",
        "# Llamada a la función\n",
        "filtrar_y_ordenar(numeros)\n",
        "\n",
        "# Salida esperada: [21, 9, 6, 3]\n",
        "```\n",
        "\n"
      ],
      "metadata": {
        "id": "0-7Er0REJcT4"
      }
    },
    {
      "cell_type": "markdown",
      "source": [
        "### Ejercicio 2: Contar Palabras Únicas\n",
        "\n",
        "**Descripción:**\n",
        "Escribe una función que reciba una cadena de texto y cuente el número de palabras únicas (sin contar repeticiones). Devuelve un diccionario con las palabras únicas como claves y el número de veces que aparecen como valores.\n",
        "\n",
        "**Requisitos:**\n",
        "- Crear una función `contar_palabras_unicas` que tome una cadena de texto como argumento.\n",
        "- Convertir la cadena a minúsculas y eliminar los signos de puntuación.\n",
        "- Dividir la cadena en palabras y contar las palabras únicas.\n",
        "- Devolver un diccionario con las palabras únicas y sus frecuencias.\n",
        "\n",
        "**Ejemplo:**\n",
        "```python\n",
        "# Cadena de entrada\n",
        "texto = \"Hola mundo! Hola a todos en el mundo.\"\n",
        "\n",
        "# Llamada a la función\n",
        "resultado = contar_palabras_unicas(texto)\n",
        "\n",
        "# Salida esperada: {'hola': 2, 'mundo': 2, 'a': 1, 'todos': 1, 'en': 1, 'el': 1}\n",
        "```"
      ],
      "metadata": {
        "id": "HbrZmpIcK025"
      }
    },
    {
      "cell_type": "markdown",
      "source": [
        "### Ejercicio 3: Simulación de Reloj Digital\n",
        "\n",
        "**Descripción:**\n",
        "Crea una función que simule el avance de un reloj digital en formato de 24 horas (hh:mm:ss). La función debe tomar tres enteros como argumentos (horas, minutos, segundos) y avanzar el reloj en un segundo. Si se llega al final del día (23:59:59), debe reiniciar a las 00:00:00.\n",
        "\n",
        "**Requisitos:**\n",
        "- Crear una función `avanzar_reloj` que tome tres enteros (horas, minutos, segundos) como argumentos.\n",
        "- Avanzar el reloj en un segundo, manejando correctamente los desbordamientos de segundos, minutos y horas.\n",
        "- Imprimir la nueva hora en formato hh:mm:ss.\n",
        "\n",
        "**Ejemplo:**\n",
        "```python\n",
        "# Hora de entrada\n",
        "horas = 23\n",
        "minutos = 59\n",
        "segundos = 59\n",
        "\n",
        "# Llamada a la función\n",
        "avanzar_reloj(horas, minutos, segundos)\n",
        "\n",
        "# Salida esperada: 00:00:00\n",
        "```\n",
        "\n",
        "Estos ejercicios requieren que los estudiantes utilicen sus conocimientos de Python de manera creativa y lógica, aplicando conceptos como la manipulación de listas, cadenas, y manejo de tiempo."
      ],
      "metadata": {
        "id": "5f5JcX9EK24Z"
      }
    }
  ]
}