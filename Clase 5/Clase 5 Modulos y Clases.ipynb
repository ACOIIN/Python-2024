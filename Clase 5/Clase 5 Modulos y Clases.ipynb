{
  "nbformat": 4,
  "nbformat_minor": 0,
  "metadata": {
    "colab": {
      "provenance": []
    },
    "kernelspec": {
      "name": "python3",
      "display_name": "Python 3"
    },
    "language_info": {
      "name": "python"
    }
  },
  "cells": [
    {
      "cell_type": "markdown",
      "source": [
        "## Módulos\n",
        "\n",
        "**¿Qué es un módulo en Python?**\n",
        "\n",
        "Un módulo es un archivo que contiene definiciones y declaraciones de Python.\n",
        "\n",
        "Su objetivo es organizar el código en bloques reutilizables.\n",
        "\n",
        "**¿Por qué usar módulos?**\n",
        "1. Mantenimiento y organización del código.\n",
        "2. Reutilización del código en diferentes proyectos.\n",
        "3. Separación de las funcionalidades en distintos archivos."
      ],
      "metadata": {
        "id": "PxrA8fhZb7R_"
      }
    },
    {
      "cell_type": "markdown",
      "source": [
        "### Sintáxis de importación"
      ],
      "metadata": {
        "id": "zhznvQRYc9ux"
      }
    },
    {
      "cell_type": "code",
      "execution_count": null,
      "metadata": {
        "id": "esxT6gOSZUoy"
      },
      "outputs": [],
      "source": [
        "# Importamos el modulo math\n",
        "import math\n",
        "\n",
        "# Ppodemos usar funciones del modulo math\n",
        "print(math.sqrt(16))"
      ]
    },
    {
      "cell_type": "code",
      "source": [
        "# Otras forma de importar\n",
        "from math import pi, sin\n",
        "\n",
        "print(pi)   # Imprime el valor de pi\n",
        "print(sin(pi/2))  # Imprime el seno de pi/2"
      ],
      "metadata": {
        "id": "5nOq2-baclFV"
      },
      "execution_count": null,
      "outputs": []
    },
    {
      "cell_type": "code",
      "source": [
        "# Podemos renombrar un modulo usando 'as'\n",
        "import math as m\n",
        "\n",
        "print(m.sqrt(25))  # En vez de escribir 'math' podemos usar 'm'"
      ],
      "metadata": {
        "id": "3R6MP_QGcuk4"
      },
      "execution_count": null,
      "outputs": []
    },
    {
      "cell_type": "code",
      "source": [
        "# Importar todo el contenido de un módulo (es una mala practica)\n",
        "from math import *\n",
        "\n",
        "print(cos(0))  # Imprime el coseno de 0"
      ],
      "metadata": {
        "id": "XHW96s4xc2sh"
      },
      "execution_count": null,
      "outputs": []
    },
    {
      "cell_type": "markdown",
      "source": [
        "### Explorando Módulos Estándar"
      ],
      "metadata": {
        "id": "RMKazosddRq7"
      }
    },
    {
      "cell_type": "markdown",
      "source": [
        "#### Módulo random: Generación de números aleatorios"
      ],
      "metadata": {
        "id": "JaCGyE7cdXSC"
      }
    },
    {
      "cell_type": "code",
      "source": [
        "import random\n",
        "\n",
        "print(random.randint(1, 10))\n",
        "\n",
        "print(random.choice(['win', 'lose', 'draw']))\n",
        "\n",
        "numeros = [1, 2, 3, 4, 5, 6]\n",
        "random.shuffle(numeros)\n",
        "print(numeros)"
      ],
      "metadata": {
        "id": "mdQxlbxVdRTV"
      },
      "execution_count": null,
      "outputs": []
    },
    {
      "cell_type": "markdown",
      "source": [
        "#### Módulo datetime: Trabajar con fechas y horas"
      ],
      "metadata": {
        "id": "RBUsDtSieARR"
      }
    },
    {
      "cell_type": "code",
      "source": [
        "import datetime\n",
        "\n",
        "now = datetime.datetime.now()\n",
        "print(now)  # Imprime la fecha y hora actuales"
      ],
      "metadata": {
        "id": "Zs-yZsGmeEP2"
      },
      "execution_count": null,
      "outputs": []
    },
    {
      "cell_type": "markdown",
      "source": [
        "#### Módulo os: Interacción con el sistema operativo\n"
      ],
      "metadata": {
        "id": "lPy3kHegeMxs"
      }
    },
    {
      "cell_type": "code",
      "source": [
        "import os\n",
        "\n",
        "print(os.getcwd())  # Imprime el directorio de trabajo actual"
      ],
      "metadata": {
        "id": "vg9lRDKUeK4n"
      },
      "execution_count": null,
      "outputs": []
    },
    {
      "cell_type": "markdown",
      "source": [
        "### Creación de Módulos Propios\n",
        "\n",
        "En un archivo llamado `mimodulo.py`, podemos tener:\n",
        "\n",
        "```py\n",
        "def suma(a, b):\n",
        "    return a + b\n",
        "\n",
        "def resta(a, b):\n",
        "    return a - b\n",
        "\n",
        "def multiplicacion(a, b):\n",
        "    return a * b\n",
        "\n",
        "def division(a, b):\n",
        "    if b != 0:\n",
        "        return a / b\n",
        "    else:\n",
        "        return \"Error: División por cero\"\n",
        "```\n",
        "\n",
        "Para usar este módulo en otro archivo, lo importamos:\n",
        "\n",
        "```py\n",
        "import mimodulo\n",
        "\n",
        "print(mimodulo.suma(10, 5))  # Imprime 15\n",
        "```"
      ],
      "metadata": {
        "id": "LB8V-UV1eXkK"
      }
    },
    {
      "cell_type": "markdown",
      "source": [
        "## Proyecto: Juego del Ahorcado\n",
        "\n",
        "El proyecto es un sencillo juego del ahorcado, donde el jugador debe adivinar una palabra letra por letra. La palabra se elige aleatoriamente de una lista, y el jugador tiene 6 vidas. Si el jugador adivina una letra correctamente, se revela en la palabra; si se equivoca, pierde una vida. El juego termina cuando el jugador adivina la palabra o se queda sin vidas.\n",
        "\n",
        "![encasa-a-jugar-a-un-clasico-junto-al-tutti-frutti-el-ahorcado-5625-mainImage-0.jpg](data:image/jpeg;base64,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)"
      ],
      "metadata": {
        "id": "9MDPd3vIe07j"
      }
    },
    {
      "cell_type": "markdown",
      "source": [
        "## Clases en Python\n",
        "\n",
        "**¿Qué es una clase?**\n",
        "\n",
        "Una clase es una plantilla para crear objetos (instancias). Define un conjunto de atributos y métodos que caracterizan a cualquier objeto de esa clase.\n",
        "\n",
        "**¿Por qué usar clases?**\n",
        "1. Reutilización de código.\n",
        "2. Organización y estructura del código.\n",
        "3. Modelar entidades del mundo real en código."
      ],
      "metadata": {
        "id": "iGuFI0FSgNsx"
      }
    },
    {
      "cell_type": "markdown",
      "source": [
        "Definición de una Clase Básica\n",
        "\n",
        "Vamos a definir una clase básica llamada `Perro` que tenga algunos atributos y métodos.\n"
      ],
      "metadata": {
        "id": "G5P60LQQgbtj"
      }
    },
    {
      "cell_type": "code",
      "source": [
        "class Perro:\n",
        "    def __init__(self, nombre, edad, raza):\n",
        "        self.nombre = nombre\n",
        "        self.edad = edad\n",
        "        self.raza = raza\n",
        "\n",
        "    def ladrar(self):\n",
        "        return f\"{self.nombre} está ladrando.\"\n",
        "\n",
        "    def sentarse(self):\n",
        "        return f\"{self.nombre} se ha sentado.\""
      ],
      "metadata": {
        "id": "kVIicd5FeXOV"
      },
      "execution_count": null,
      "outputs": []
    },
    {
      "cell_type": "code",
      "source": [
        "# Crear una instancia de la clase `Perro`\n",
        "mi_perro = Perro(\"Fido\", 3, \"Labrador\")\n",
        "print(mi_perro.ladrar())\n",
        "print(mi_perro.sentarse())"
      ],
      "metadata": {
        "id": "HJP-Ao5UgeIT"
      },
      "execution_count": null,
      "outputs": []
    },
    {
      "cell_type": "markdown",
      "source": [
        "#### Métodos de Clase y Métodos Estáticos\n",
        "\n",
        "- Métodos de instancia: Operan sobre una instancia particular de la clase (el objeto).\n",
        "- Métodos de clase: Operan sobre la clase en sí. Usan el decorador `@classmethod`.\n",
        "- Métodos estáticos: No dependen de la clase o instancia. Usan el decorador `@staticmethod`."
      ],
      "metadata": {
        "id": "sm0UW028hB-u"
      }
    },
    {
      "cell_type": "code",
      "source": [
        "class Circulo:\n",
        "    pi = 3.14159\n",
        "\n",
        "    def __init__(self, radio):\n",
        "        self.radio = radio\n",
        "\n",
        "    def area(self):\n",
        "        return self.radio ** 2 * Circulo.pi\n",
        "\n",
        "    @classmethod\n",
        "    def cambiar_pi(cls, nuevo_valor):\n",
        "        cls.pi = nuevo_valor\n",
        "\n",
        "    @staticmethod\n",
        "    def informacion():\n",
        "        return \"Esta es una clase para trabajar con círculos.\""
      ],
      "metadata": {
        "id": "EZjpA1rrgzNk"
      },
      "execution_count": 10,
      "outputs": []
    },
    {
      "cell_type": "code",
      "source": [
        "# Usando métodos de instancia, clase y estáticos\n",
        "circulo1 = Circulo(5)\n",
        "print(circulo1.area())\n",
        "\n",
        "Circulo.cambiar_pi(3.14)\n",
        "print(circulo1.area())\n",
        "\n",
        "print(Circulo.informacion())"
      ],
      "metadata": {
        "id": "6ahFu42Yg0Kn"
      },
      "execution_count": null,
      "outputs": []
    },
    {
      "cell_type": "code",
      "source": [
        "circulo2 = Circulo(10)\n",
        "print(circulo2.pi)"
      ],
      "metadata": {
        "id": "P3Avgi3qg2es"
      },
      "execution_count": null,
      "outputs": []
    },
    {
      "cell_type": "markdown",
      "source": [
        "### Herencia\n",
        "\n",
        "La herencia permite crear una nueva clase que toma las características de una clase existente.\n",
        "\n",
        "Vamos a crear una clase `Vehiculo` y luego una clase `Coche` que herede de `Vehiculo`."
      ],
      "metadata": {
        "id": "Puc2BVdLhKX8"
      }
    },
    {
      "cell_type": "code",
      "source": [
        "class Vehiculo:\n",
        "    def __init__(self, marca, modelo):\n",
        "        self.marca = marca\n",
        "        self.modelo = modelo\n",
        "\n",
        "    def arrancar(self):\n",
        "        return f\"El {self.marca} {self.modelo} está arrancando.\"\n",
        "\n",
        "class Coche(Vehiculo):\n",
        "    def __init__(self, marca, modelo, puertas):\n",
        "        super().__init__(marca, modelo)\n",
        "        self.puertas = puertas\n",
        "\n",
        "    def tocar_bocina(self):\n",
        "        return \"¡Bip Bip!\""
      ],
      "metadata": {
        "id": "uf8vpwAOhP3R"
      },
      "execution_count": null,
      "outputs": []
    },
    {
      "cell_type": "code",
      "source": [
        "# Crear una instancia de la clase `Coche`\n",
        "mi_coche = Coche(\"Toyota\", \"Corolla\", 4)\n",
        "print(mi_coche.arrancar())\n",
        "print(mi_coche.tocar_bocina())"
      ],
      "metadata": {
        "id": "VGuTKQvrhSFO"
      },
      "execution_count": null,
      "outputs": []
    },
    {
      "cell_type": "markdown",
      "source": [
        "### Proyecto: Juego piedra papel o tijera\n",
        "\n",
        "En este proyecto, implementarás un juego clásico de \"Piedra, Papel, Tijera\" usando clases en Python.\n",
        "\n",
        "Crearás una clase base `Jugador` y dos clases derivadas: `JugadorHumano` y `JugadorComputadora`.\n",
        "\n",
        "Además, implementarás la clase `Juego` que gestionará las rondas del juego y determinará el ganador."
      ],
      "metadata": {
        "id": "qiL7zEhBhxwU"
      }
    },
    {
      "cell_type": "code",
      "source": [
        "import random\n",
        "\n",
        "# Clase base Jugador\n",
        "class Jugador:\n",
        "    victorias = 0  # Atributo de clase para contar las victorias de todos los jugadores\n",
        "\n",
        "    def __init__(self, nombre):\n",
        "        self.nombre = nombre\n",
        "\n",
        "    def elegir_movimiento(self):\n",
        "        # Este metodo sera implementado por las clases derivadas.\n",
        "        pass\n",
        "\n",
        "    @classmethod\n",
        "    def incrementar_victorias(cls):\n",
        "        # Incrementa el contador de victorias global.\n",
        "        pass\n",
        "\n",
        "    @staticmethod\n",
        "    def determinar_ganador(movimiento1, movimiento2):\n",
        "        # Determina el ganador basado en las reglas del juego.\n",
        "        pass"
      ],
      "metadata": {
        "id": "ghkUSSXZiTuV"
      },
      "execution_count": null,
      "outputs": []
    },
    {
      "cell_type": "code",
      "source": [
        "# Clase derivada JugadorHumano\n",
        "class JugadorHumano(Jugador):\n",
        "    def elegir_movimiento(self):\n",
        "        # Pide al jugador humano que elija un movimiento.\n",
        "        # Debes retornar el movimiento como un string, ej: \"papel\"\n",
        "        pass"
      ],
      "metadata": {
        "id": "73ceMkrRibn-"
      },
      "execution_count": null,
      "outputs": []
    },
    {
      "cell_type": "code",
      "source": [
        "# Clase derivada JugadorComputadora\n",
        "class JugadorComputadora(Jugador):\n",
        "    def elegir_movimiento(self):\n",
        "        # Genera un movimiento aleatorio para la computadora.\n",
        "        # Debes retornar el movimiento como un string, ej: \"papel\"\n",
        "        pass"
      ],
      "metadata": {
        "id": "h4FuRbFBieW2"
      },
      "execution_count": null,
      "outputs": []
    },
    {
      "cell_type": "code",
      "source": [
        "# Clase Juego que gestiona las partidas\n",
        "class Juego:\n",
        "    def __init__(self, jugador1, jugador2):\n",
        "        self.jugador1 = jugador1\n",
        "        self.jugador2 = jugador2\n",
        "\n",
        "    def jugar_ronda(self):\n",
        "        # Gestiona una ronda del juego y determina el ganador.\n",
        "        pass"
      ],
      "metadata": {
        "id": "zjqaWDl_ip_r"
      },
      "execution_count": null,
      "outputs": []
    },
    {
      "cell_type": "code",
      "source": [
        "# Instanciar los jugadores\n",
        "jugador1 = JugadorHumano(\"Humano\")\n",
        "jugador2 = JugadorComputadora(\"Computadora\")\n",
        "\n",
        "# Instanciar el juego\n",
        "juego = Juego(jugador1, jugador2)\n",
        "\n",
        "# Jugar 3 rondas\n",
        "for _ in range(3):\n",
        "    juego.jugar_ronda()"
      ],
      "metadata": {
        "id": "k1sFYncYisod"
      },
      "execution_count": null,
      "outputs": []
    }
  ]
}