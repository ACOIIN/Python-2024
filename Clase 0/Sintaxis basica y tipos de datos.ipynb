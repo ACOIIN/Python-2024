{
 "cells": [
  {
   "cell_type": "markdown",
   "metadata": {
    "id": "9_U-bNaV1Cfg"
   },
   "source": [
    "# Clase 0 - Taller de Python acoiin.ipynb"
   ]
  },
  {
   "cell_type": "markdown",
   "metadata": {
    "id": "TKLLrLRS1Krv"
   },
   "source": [
    "## 1. ¿Qué es Python?\n"
   ]
  },
  {
   "cell_type": "markdown",
   "metadata": {
    "id": "0PoMCquq1RAq"
   },
   "source": [
    "### Breve historia y uso de Python\n",
    "- Python es un lenguaje de programación de alto nivel, interpretado y de propósito general.\n",
    "- Fue creado por Guido van Rossum y su primera versión fue lanzada en 1991.\n",
    "- Se usa ampliamente en varios campos como el desarrollo web, ciencia de datos, automatización, inteligencia artificial, entre otros."
   ]
  },
  {
   "cell_type": "markdown",
   "metadata": {
    "id": "HkOl6Aso1yP0"
   },
   "source": [
    "### ¿Por qué aprender Python?\n",
    "- **Sencillez**: Python tiene una sintaxis fácil de leer y escribir, lo que lo hace ideal para principiantes.\n",
    "- **Versatilidad**: Se puede utilizar para una amplia variedad de aplicaciones, desde el desarrollo web hasta la ciencia de datos.\n",
    "- **Comunidad de apoyo**: Tiene una gran comunidad que contribuye con librerías y ofrece soporte a través de foros y grupos."
   ]
  },
  {
   "cell_type": "markdown",
   "metadata": {
    "id": "PkvZ2h_v1qtL"
   },
   "source": [
    "## 2. Instalación y Entorno de Desarrollo\n"
   ]
  },
  {
   "cell_type": "markdown",
   "metadata": {
    "id": "mjuwz-FT2Ade"
   },
   "source": [
    "Para instalar Python, puedes descargarlo desde [python.org](https://www.python.org/) o seguir este [tutorial](https://youtu.be/-IyA_Yvs8IQ?si=VzxivFKUWgMYr558).\n",
    "Hay varios IDEs y editores de texto (bloc de notas con esteroides) que puedes usar para escribir código en Python, como:\n",
    "- VSCode\n",
    "- PyCharm\n",
    "- Sublime Text\n",
    "\n",
    "También puedes usar plataformas en línea como [Replit](https://replit.com/) para ejecutar código en Python sin necesidad de instalar nada en tu computadora.\n",
    "\n",
    "**Jupyter Notebook**\n",
    "\n",
    "Aplicación web que nos permite correr código Python interactivo en bloques. Es lo que estamos ocupando ahora."
   ]
  },
  {
   "cell_type": "markdown",
   "metadata": {
    "id": "Te67yWOG2GpF"
   },
   "source": [
    "## 3. Primeros Pasos en Python\n"
   ]
  },
  {
   "cell_type": "markdown",
   "metadata": {
    "id": "0lSU5_Eb2LbI"
   },
   "source": [
    "### Sintaxis básica"
   ]
  },
  {
   "cell_type": "markdown",
   "metadata": {
    "id": "ZvE3mhWv2PCf"
   },
   "source": [
    "**Comentarios en Python**\n",
    "\n",
    "Los comentarios son líneas de código que no se ejecutan y sirven para documentar el código."
   ]
  },
  {
   "cell_type": "code",
   "execution_count": null,
   "metadata": {
    "id": "mG9PeUIS1KR9"
   },
   "outputs": [],
   "source": [
    "# Esto es un comentario de una sola línea."
   ]
  },
  {
   "cell_type": "markdown",
   "metadata": {
    "id": "ITOb2bYf3Xsx"
   },
   "source": [
    "**Impresión en pantalla**"
   ]
  },
  {
   "cell_type": "code",
   "execution_count": null,
   "metadata": {
    "colab": {
     "base_uri": "https://localhost:8080/"
    },
    "id": "SUZKaitF3nDj",
    "outputId": "062bc308-e305-4ee2-bddd-7014f8460940"
   },
   "outputs": [],
   "source": [
    "print(\"Hola, mundo!\")"
   ]
  },
  {
   "cell_type": "markdown",
   "metadata": {},
   "source": [
    "**Trucos de print**"
   ]
  },
  {
   "cell_type": "code",
   "execution_count": null,
   "metadata": {},
   "outputs": [],
   "source": [
    "print(\"Hola\", \"mundo\")      # va a imprimir en pantalla \"Hola mundo\"\n",
    "                            # la coma hace que se separen por un espacio\n",
    "\n",
    "print(\"Primera linea\\nnueva linea\")   # \\n es un salto de linea\n",
    "\n",
    "print(\"Soy un slash\\\\\")            # \\\\ imprime un \\\n",
    "print(\"Soy una doble comilla\\\"\")   # \\\" imprime una \"\n",
    "                                   # python toma lo que venga despues del \\ si o si como un caracter"
   ]
  },
  {
   "cell_type": "markdown",
   "metadata": {
    "id": "ET2F17JO3pfJ"
   },
   "source": [
    "\n",
    "### Variables y tipos de datos\n",
    "\n",
    "En Python, no necesitas declarar explícitamente el tipo de una variable.\n",
    "Puedes asignar un valor a una variable y Python determinará automáticamente su tipo."
   ]
  },
  {
   "cell_type": "code",
   "execution_count": null,
   "metadata": {
    "id": "Hiq3_9WL33Vb"
   },
   "outputs": [],
   "source": [
    "# Números\n",
    "entero = 10\n",
    "flotante = 10.5\n"
   ]
  },
  {
   "cell_type": "markdown",
   "metadata": {},
   "source": [
    "**Asignación de variables**\n",
    "\n",
    "Cuando se asigna una variable en python la sintáxis es:\n",
    "\n",
    "```py\n",
    "variable_a_asignar = valor_a_asignar\n",
    "```\n",
    "\n",
    "Además podemos asignarle el valor de una variable a otra."
   ]
  },
  {
   "cell_type": "code",
   "execution_count": null,
   "metadata": {},
   "outputs": [],
   "source": [
    "variable1 = 1000\n",
    "variable2 = 3.14\n",
    "\n",
    "print(\"valor de la variable 1:\", variable1)\n",
    "print(\"valor de la variable 2:\", variable2)\n",
    "\n",
    "print(\"Asignamos variable1 <- variable2...\")\n",
    "\n",
    "variable1 = variable2\n",
    "\n",
    "print(\"valor de la variable 1:\", variable1)\n",
    "print(\"valor de la variable 2:\", variable2)"
   ]
  },
  {
   "cell_type": "markdown",
   "metadata": {},
   "source": [
    "### Reto\n",
    "\n",
    "Intercambia los valores de `variable1` y de `variable2` de modo que después de hacerlo te quede:\n",
    "\n",
    "```txt\n",
    "valor de la variable 1: 3.14\n",
    "valor de la variable 2: 1000\n",
    "```"
   ]
  },
  {
   "cell_type": "code",
   "execution_count": null,
   "metadata": {},
   "outputs": [],
   "source": [
    "# Tu solución del reto acá"
   ]
  },
  {
   "cell_type": "code",
   "execution_count": null,
   "metadata": {
    "id": "MsePKfz-35CB"
   },
   "outputs": [],
   "source": [
    "# Cadenas de texto\n",
    "cadena = \"Hola, Python!\""
   ]
  },
  {
   "cell_type": "code",
   "execution_count": null,
   "metadata": {
    "id": "GrWtI6id37Gx"
   },
   "outputs": [],
   "source": [
    "# Booleanos\n",
    "verdadero = True\n",
    "falso = False"
   ]
  },
  {
   "cell_type": "code",
   "execution_count": null,
   "metadata": {
    "id": "XQqI-YIh3_89"
   },
   "outputs": [],
   "source": [
    "# Imprimir los valores y tipos de las variables\n",
    "print(\"Valor de entero:\", entero, \"Tipo:\", type(entero))\n",
    "print(\"Valor de flotante:\", flotante, \"Tipo:\", type(flotante))\n",
    "print(\"Valor de cadena:\", cadena, \"Tipo:\", type(cadena))\n",
    "print(\"Valor de verdadero:\", verdadero, \"Tipo:\", type(verdadero))\n",
    "print(\"Valor de falso:\", falso, \"Tipo:\", type(falso))"
   ]
  },
  {
   "cell_type": "markdown",
   "metadata": {
    "id": "zam61R6_4CQw"
   },
   "source": [
    "### Entrada de datos\n",
    "Puedes pedir al usuario que ingrese datos usando la función input()."
   ]
  },
  {
   "cell_type": "code",
   "execution_count": null,
   "metadata": {
    "id": "pwUgLEhi4D0F"
   },
   "outputs": [],
   "source": [
    "nombre = input(\"¿Cuál es tu nombre? \")\n",
    "edad = input(\"¿Cuántos años tienes? \")\n"
   ]
  },
  {
   "cell_type": "code",
   "execution_count": null,
   "metadata": {
    "id": "nBiqCiXx4FnZ"
   },
   "outputs": [],
   "source": [
    "# Los datos ingresados por el usuario son siempre de tipo cadena.\n",
    "print(\"Nombre:\", nombre, \"Tipo:\", type(nombre))\n",
    "print(\"Edad:\", edad, \"Tipo:\", type(edad))\n"
   ]
  },
  {
   "cell_type": "code",
   "execution_count": null,
   "metadata": {
    "id": "yr9QzjcE4JcY"
   },
   "outputs": [],
   "source": [
    "# Si necesitas que la edad sea un número, puedes convertirla usando int().\n",
    "edad = int(edad)\n",
    "print(\"Edad después de convertirla a entero:\", edad, \"Tipo:\", type(edad))"
   ]
  },
  {
   "cell_type": "markdown",
   "metadata": {
    "id": "Y6TNlVWH4KsM"
   },
   "source": [
    "### Operadores básicos"
   ]
  },
  {
   "cell_type": "code",
   "execution_count": null,
   "metadata": {
    "id": "8aNz0Dce4OPQ"
   },
   "outputs": [],
   "source": [
    "# Operadores aritméticos\n",
    "suma = 5 + 3\n",
    "resta = 5 - 3\n",
    "multiplicacion = 5 * 3\n",
    "division = 5 / 3"
   ]
  },
  {
   "cell_type": "code",
   "execution_count": null,
   "metadata": {
    "id": "PhOC7sgC4Qb4"
   },
   "outputs": [],
   "source": [
    "# Operadores de comparación\n",
    "mayor_que = 5 > 3\n",
    "menor_que = 5 < 3\n",
    "igual_a = 5 == 3\n",
    "diferente_de = 5 != 3"
   ]
  },
  {
   "cell_type": "markdown",
   "metadata": {
    "id": "RRlTR-7a6n3d"
   },
   "source": [
    "### Ejercicio del hola..."
   ]
  },
  {
   "cell_type": "markdown",
   "metadata": {
    "id": "btJJHo_I6s2_"
   },
   "source": [
    "Crea un programa que pida al usuario su nombre y edad, y luego imprima un mensaje personalizado.\n",
    "\n",
    "Puedes agregarle más cosas..."
   ]
  },
  {
   "cell_type": "code",
   "execution_count": null,
   "metadata": {},
   "outputs": [],
   "source": [
    "# Tu solución acá"
   ]
  },
  {
   "cell_type": "markdown",
   "metadata": {
    "id": "0y-Ieu4A4s6H"
   },
   "source": [
    "### Ejercicio del IMC 1"
   ]
  },
  {
   "cell_type": "markdown",
   "metadata": {
    "id": "MPjJTSeu4zho"
   },
   "source": [
    "Vamos a escribir un programa en Python que calcule el Índice de Masa Corporal (IMC) de una persona. El IMC se calcula usando la siguiente fórmula:\n",
    "\n",
    "$IMC = \\frac{peso(kg)}{(altura (m))^2}$\n",
    "\n",
    "Intrucciones:\n",
    "\n",
    "1. Pedir entrada de los datos al usuario (altura y peso).\n",
    "\n",
    "2. Convertir los datos a los tipos de datos adecuados.\n",
    "\n",
    "3. Calcular el IMC en una variable.\n",
    "\n",
    "4. Mostrar en pantalla el IMC del usuario."
   ]
  },
  {
   "cell_type": "code",
   "execution_count": null,
   "metadata": {
    "id": "P72vK_LF6Ayv"
   },
   "outputs": [],
   "source": [
    "# Tu solición acá"
   ]
  }
 ],
 "metadata": {
  "colab": {
   "provenance": [],
   "toc_visible": true
  },
  "kernelspec": {
   "display_name": "Python 3 (ipykernel)",
   "language": "python",
   "name": "python3"
  },
  "language_info": {
   "codemirror_mode": {
    "name": "ipython",
    "version": 3
   },
   "file_extension": ".py",
   "mimetype": "text/x-python",
   "name": "python",
   "nbconvert_exporter": "python",
   "pygments_lexer": "ipython3",
   "version": "3.10.12"
  }
 },
 "nbformat": 4,
 "nbformat_minor": 4
}
